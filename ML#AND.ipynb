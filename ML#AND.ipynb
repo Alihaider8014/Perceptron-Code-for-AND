{
 "cells": [
  {
   "cell_type": "code",
   "execution_count": 101,
   "metadata": {},
   "outputs": [
    {
     "data": {
      "text/plain": [
       "[0, 0, 1, 1, 0, 0, 1, 1, 0, 0, 1, 1, 0, 0, 1, 1, 0, 0, 1, 1]"
      ]
     },
     "execution_count": 101,
     "metadata": {},
     "output_type": "execute_result"
    }
   ],
   "source": [
    "matrix_x=[0,0,1,1,0,0,1,1,0,0,1,1,0,0,1,1,0,0,1,1]\n",
    "matrix_x"
   ]
  },
  {
   "cell_type": "code",
   "execution_count": 102,
   "metadata": {},
   "outputs": [
    {
     "data": {
      "text/plain": [
       "[0, 1, 0, 1, 0, 1, 0, 1, 0, 1, 0, 1, 0, 1, 0, 1, 0, 1, 0, 1]"
      ]
     },
     "execution_count": 102,
     "metadata": {},
     "output_type": "execute_result"
    }
   ],
   "source": [
    "matrix_y=[0,1,0,1,0,1,0,1,0,1,0,1,0,1,0,1,0,1,0,1]\n",
    "matrix_y"
   ]
  },
  {
   "cell_type": "code",
   "execution_count": 103,
   "metadata": {},
   "outputs": [
    {
     "name": "stdout",
     "output_type": "stream",
     "text": [
      "[0, 0, 0, 1, 0, 0, 0, 1, 0, 0, 0, 1, 0, 0, 0, 1, 0, 0, 0, 1]\n"
     ]
    }
   ],
   "source": [
    "expected_value=[0,0,0,0,0,0,0,0,0,0,0,0,0,0,0,0,0,0,0,0]\n",
    "for i in range(0,20):\n",
    "    a=matrix_x[i] & matrix_y[i]\n",
    "    expected_value[i]=a\n",
    "\n",
    "print(expected_value)"
   ]
  },
  {
   "cell_type": "code",
   "execution_count": 104,
   "metadata": {},
   "outputs": [
    {
     "data": {
      "text/plain": [
       "[0, 0, 0, 1, 0, 0, 0, 1, 0, 0, 0, 1, 0, 0, 0, 1, 0, 0, 0, 1]"
      ]
     },
     "execution_count": 104,
     "metadata": {},
     "output_type": "execute_result"
    }
   ],
   "source": [
    "expected_value"
   ]
  },
  {
   "cell_type": "code",
   "execution_count": 112,
   "metadata": {},
   "outputs": [],
   "source": [
    "weight1=0.2\n",
    "weight2=0.1\n",
    "learning_rate=0.1\n",
    "bias=1"
   ]
  },
  {
   "cell_type": "code",
   "execution_count": 113,
   "metadata": {},
   "outputs": [
    {
     "name": "stdout",
     "output_type": "stream",
     "text": [
      "0 0 0 0 0.2 0.1 0\n",
      "0 1 0 0 0.2 0.1 0\n",
      "1 0 0 0 0.2 0.1 0\n",
      "1 1 1 0 0.30000000000000004 0.2 1\n",
      "0 0 0 0 0.30000000000000004 0.2 0\n",
      "0 1 0 0 0.30000000000000004 0.2 0\n",
      "1 0 0 0 0.30000000000000004 0.2 0\n",
      "1 1 1 0 0.4 0.30000000000000004 1\n",
      "0 0 0 0 0.4 0.30000000000000004 0\n",
      "0 1 0 0 0.4 0.30000000000000004 0\n",
      "1 0 0 0 0.4 0.30000000000000004 0\n",
      "1 1 1 0 0.5 0.4 1\n",
      "0 0 0 0 0.5 0.4 0\n",
      "0 1 0 0 0.5 0.4 0\n",
      "1 0 0 0 0.5 0.4 0\n",
      "1 1 1 0 0.6 0.5 1\n",
      "0 0 0 0 0.6 0.5 0\n",
      "0 1 0 0 0.6 0.5 0\n",
      "1 0 0 0 0.6 0.5 0\n",
      "1 1 1 1 0.6 0.5 0\n"
     ]
    }
   ],
   "source": [
    "for i in range(0,20):\n",
    "    y=(matrix_x[i]* weight1) + (matrix_y[i] * weight2)\n",
    "    if (y<1):\n",
    "        y=0\n",
    "    if (y>=1):\n",
    "        y=1\n",
    "    if (y != expected_value[i]):\n",
    "        weight1=weight1 + (learning_rate * matrix_x[i] * bias)\n",
    "        weight2=weight2 + (learning_rate * matrix_y[i] * bias)\n",
    "        \n",
    "    print(matrix_x[i], matrix_y[i], expected_value[i], y, weight1, weight2, expected_value[i]-y)\n",
    "        "
   ]
  },
  {
   "cell_type": "code",
   "execution_count": null,
   "metadata": {},
   "outputs": [],
   "source": []
  }
 ],
 "metadata": {
  "kernelspec": {
   "display_name": "Python 3",
   "language": "python",
   "name": "python3"
  },
  "language_info": {
   "codemirror_mode": {
    "name": "ipython",
    "version": 3
   },
   "file_extension": ".py",
   "mimetype": "text/x-python",
   "name": "python",
   "nbconvert_exporter": "python",
   "pygments_lexer": "ipython3",
   "version": "3.7.0"
  }
 },
 "nbformat": 4,
 "nbformat_minor": 2
}
